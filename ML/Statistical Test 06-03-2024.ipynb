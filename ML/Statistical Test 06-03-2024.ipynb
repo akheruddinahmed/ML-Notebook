{
 "cells": [
  {
   "cell_type": "code",
   "execution_count": 1,
   "id": "652e280b",
   "metadata": {},
   "outputs": [],
   "source": [
    "import pandas as pd\n",
    "pd.set_option('max_colwidth', 200)\n",
    "pd.set_option('display.float_format', lambda x: '%.3f' % x)\n",
    "from statsmodels.stats.weightstats import *\n",
    "import scipy.stats\n",
    "\n",
    "#this is the entire dataset, but we'll only be able to use to extract samples from it.\n",
    "city_hall_dataset = pd.read_csv('/Users/akheruddinahmed/Desktop/Python/ML Lab/Statistical Tests/train.csv')"
   ]
  },
  {
   "cell_type": "code",
   "execution_count": 2,
   "id": "5d574c19",
   "metadata": {},
   "outputs": [],
   "source": [
    "def results(p):\n",
    "    if(p['p_value']<0.05):p['hypothesis_accepted'] = 'alternative'\n",
    "    if(p['p_value']>=0.05):p['hypothesis_accepted'] = 'null'\n",
    "\n",
    "    df = pd.DataFrame(p, index=[''])\n",
    "    cols = ['value1', 'value2', 'score', 'p_value', 'hypothesis_accepted']\n",
    "    return df[cols]"
   ]
  },
  {
   "cell_type": "code",
   "execution_count": 3,
   "id": "e9e9a206",
   "metadata": {},
   "outputs": [
    {
     "data": {
      "text/plain": [
       "11.695255355062795"
      ]
     },
     "execution_count": 3,
     "metadata": {},
     "output_type": "execute_result"
    }
   ],
   "source": [
    "import numpy as np\n",
    "city_hall_dataset['SalePrice'] = np.log1p(city_hall_dataset['SalePrice'])\n",
    "logged_budget = np.log1p(120000) #logged $120 000 is 11.695\n",
    "logged_budget"
   ]
  },
  {
   "cell_type": "code",
   "execution_count": 4,
   "id": "a5beb90f",
   "metadata": {},
   "outputs": [],
   "source": [
    "sample = city_hall_dataset.sample(n=25)\n",
    "p = {} #dictionnary we'll use to stock information and results"
   ]
  },
  {
   "cell_type": "code",
   "execution_count": 5,
   "id": "f5777667",
   "metadata": {},
   "outputs": [
    {
     "data": {
      "text/html": [
       "<div>\n",
       "<style scoped>\n",
       "    .dataframe tbody tr th:only-of-type {\n",
       "        vertical-align: middle;\n",
       "    }\n",
       "\n",
       "    .dataframe tbody tr th {\n",
       "        vertical-align: top;\n",
       "    }\n",
       "\n",
       "    .dataframe thead th {\n",
       "        text-align: right;\n",
       "    }\n",
       "</style>\n",
       "<table border=\"1\" class=\"dataframe\">\n",
       "  <thead>\n",
       "    <tr style=\"text-align: right;\">\n",
       "      <th></th>\n",
       "      <th>value1</th>\n",
       "      <th>value2</th>\n",
       "      <th>score</th>\n",
       "      <th>p_value</th>\n",
       "      <th>hypothesis_accepted</th>\n",
       "    </tr>\n",
       "  </thead>\n",
       "  <tbody>\n",
       "    <tr>\n",
       "      <th></th>\n",
       "      <td>12.022</td>\n",
       "      <td>11.695</td>\n",
       "      <td>4.993</td>\n",
       "      <td>0.000</td>\n",
       "      <td>alternative</td>\n",
       "    </tr>\n",
       "  </tbody>\n",
       "</table>\n",
       "</div>"
      ],
      "text/plain": [
       "  value1  value2  score  p_value hypothesis_accepted\n",
       "  12.022  11.695  4.993    0.000         alternative"
      ]
     },
     "execution_count": 5,
     "metadata": {},
     "output_type": "execute_result"
    }
   ],
   "source": [
    "p['value1'], p['value2'] = sample['SalePrice'].mean(), logged_budget\n",
    "p['score'], p['p_value'] = stats.ttest_1samp(sample['SalePrice'], popmean=logged_budget)\n",
    "results(p)"
   ]
  },
  {
   "cell_type": "code",
   "execution_count": 6,
   "id": "f726a011",
   "metadata": {},
   "outputs": [
    {
     "data": {
      "text/html": [
       "<div>\n",
       "<style scoped>\n",
       "    .dataframe tbody tr th:only-of-type {\n",
       "        vertical-align: middle;\n",
       "    }\n",
       "\n",
       "    .dataframe tbody tr th {\n",
       "        vertical-align: top;\n",
       "    }\n",
       "\n",
       "    .dataframe thead th {\n",
       "        text-align: right;\n",
       "    }\n",
       "</style>\n",
       "<table border=\"1\" class=\"dataframe\">\n",
       "  <thead>\n",
       "    <tr style=\"text-align: right;\">\n",
       "      <th></th>\n",
       "      <th>value1</th>\n",
       "      <th>value2</th>\n",
       "      <th>score</th>\n",
       "      <th>p_value</th>\n",
       "      <th>hypothesis_accepted</th>\n",
       "    </tr>\n",
       "  </thead>\n",
       "  <tbody>\n",
       "    <tr>\n",
       "      <th></th>\n",
       "      <td>12.022</td>\n",
       "      <td>11.695</td>\n",
       "      <td>4.993</td>\n",
       "      <td>0.000</td>\n",
       "      <td>alternative</td>\n",
       "    </tr>\n",
       "  </tbody>\n",
       "</table>\n",
       "</div>"
      ],
      "text/plain": [
       "  value1  value2  score  p_value hypothesis_accepted\n",
       "  12.022  11.695  4.993    0.000         alternative"
      ]
     },
     "execution_count": 6,
     "metadata": {},
     "output_type": "execute_result"
    }
   ],
   "source": [
    "p['value1'], p['value2'] = sample['SalePrice'].mean(), logged_budget\n",
    "p['score'], p['p_value'] = stats.ttest_1samp(sample['SalePrice'], popmean=logged_budget)\n",
    "p['p_value'] = p['p_value']/2 #one-tailed test (with scipy function), we need to divide p-value by 2 ourselves\n",
    "results(p)"
   ]
  },
  {
   "cell_type": "code",
   "execution_count": 7,
   "id": "fe310bfb",
   "metadata": {},
   "outputs": [],
   "source": [
    "smaller_houses = city_hall_dataset.sort_values('GrLivArea')[:730].sample(n=25)\n",
    "larger_houses = city_hall_dataset.sort_values('GrLivArea')[730:].sample(n=25)"
   ]
  },
  {
   "cell_type": "code",
   "execution_count": 8,
   "id": "cb4119df",
   "metadata": {},
   "outputs": [
    {
     "data": {
      "text/html": [
       "<div>\n",
       "<style scoped>\n",
       "    .dataframe tbody tr th:only-of-type {\n",
       "        vertical-align: middle;\n",
       "    }\n",
       "\n",
       "    .dataframe tbody tr th {\n",
       "        vertical-align: top;\n",
       "    }\n",
       "\n",
       "    .dataframe thead th {\n",
       "        text-align: right;\n",
       "    }\n",
       "</style>\n",
       "<table border=\"1\" class=\"dataframe\">\n",
       "  <thead>\n",
       "    <tr style=\"text-align: right;\">\n",
       "      <th></th>\n",
       "      <th>value1</th>\n",
       "      <th>value2</th>\n",
       "      <th>score</th>\n",
       "      <th>p_value</th>\n",
       "      <th>hypothesis_accepted</th>\n",
       "    </tr>\n",
       "  </thead>\n",
       "  <tbody>\n",
       "    <tr>\n",
       "      <th></th>\n",
       "      <td>11.748</td>\n",
       "      <td>12.328</td>\n",
       "      <td>-7.098</td>\n",
       "      <td>0.000</td>\n",
       "      <td>alternative</td>\n",
       "    </tr>\n",
       "  </tbody>\n",
       "</table>\n",
       "</div>"
      ],
      "text/plain": [
       "  value1  value2  score  p_value hypothesis_accepted\n",
       "  11.748  12.328 -7.098    0.000         alternative"
      ]
     },
     "execution_count": 8,
     "metadata": {},
     "output_type": "execute_result"
    }
   ],
   "source": [
    "p['value1'], p['value2'] = smaller_houses['SalePrice'].mean(), larger_houses['SalePrice'].mean()\n",
    "p['score'], p['p_value'], p['df'] = ttest_ind(smaller_houses['SalePrice'], larger_houses['SalePrice'])\n",
    "results(p)"
   ]
  },
  {
   "cell_type": "code",
   "execution_count": 9,
   "id": "5374c558",
   "metadata": {},
   "outputs": [
    {
     "data": {
      "text/html": [
       "<div>\n",
       "<style scoped>\n",
       "    .dataframe tbody tr th:only-of-type {\n",
       "        vertical-align: middle;\n",
       "    }\n",
       "\n",
       "    .dataframe tbody tr th {\n",
       "        vertical-align: top;\n",
       "    }\n",
       "\n",
       "    .dataframe thead th {\n",
       "        text-align: right;\n",
       "    }\n",
       "</style>\n",
       "<table border=\"1\" class=\"dataframe\">\n",
       "  <thead>\n",
       "    <tr style=\"text-align: right;\">\n",
       "      <th></th>\n",
       "      <th>value1</th>\n",
       "      <th>value2</th>\n",
       "      <th>score</th>\n",
       "      <th>p_value</th>\n",
       "      <th>hypothesis_accepted</th>\n",
       "    </tr>\n",
       "  </thead>\n",
       "  <tbody>\n",
       "    <tr>\n",
       "      <th></th>\n",
       "      <td>11.748</td>\n",
       "      <td>12.328</td>\n",
       "      <td>-7.098</td>\n",
       "      <td>0.000</td>\n",
       "      <td>alternative</td>\n",
       "    </tr>\n",
       "  </tbody>\n",
       "</table>\n",
       "</div>"
      ],
      "text/plain": [
       "  value1  value2  score  p_value hypothesis_accepted\n",
       "  11.748  12.328 -7.098    0.000         alternative"
      ]
     },
     "execution_count": 9,
     "metadata": {},
     "output_type": "execute_result"
    }
   ],
   "source": [
    "p['value1'], p['value2'] = smaller_houses['SalePrice'].mean(), larger_houses['SalePrice'].mean()\n",
    "p['score'], p['p_value'], p['df'] = ttest_ind(smaller_houses['SalePrice'], larger_houses['SalePrice'], alternative='smaller')\n",
    "results(p)"
   ]
  },
  {
   "cell_type": "code",
   "execution_count": 10,
   "id": "4bb68ca6",
   "metadata": {},
   "outputs": [],
   "source": [
    "smaller_houses = city_hall_dataset.sort_values('GrLivArea')[:730].sample(n=100, random_state=1)\n",
    "larger_houses = city_hall_dataset.sort_values('GrLivArea')[730:].sample(n=100, random_state=1)"
   ]
  },
  {
   "cell_type": "code",
   "execution_count": 11,
   "id": "9137c3d5",
   "metadata": {},
   "outputs": [
    {
     "data": {
      "text/html": [
       "<div>\n",
       "<style scoped>\n",
       "    .dataframe tbody tr th:only-of-type {\n",
       "        vertical-align: middle;\n",
       "    }\n",
       "\n",
       "    .dataframe tbody tr th {\n",
       "        vertical-align: top;\n",
       "    }\n",
       "\n",
       "    .dataframe thead th {\n",
       "        text-align: right;\n",
       "    }\n",
       "</style>\n",
       "<table border=\"1\" class=\"dataframe\">\n",
       "  <thead>\n",
       "    <tr style=\"text-align: right;\">\n",
       "      <th></th>\n",
       "      <th>value1</th>\n",
       "      <th>value2</th>\n",
       "      <th>score</th>\n",
       "      <th>p_value</th>\n",
       "      <th>hypothesis_accepted</th>\n",
       "    </tr>\n",
       "  </thead>\n",
       "  <tbody>\n",
       "    <tr>\n",
       "      <th></th>\n",
       "      <td>11.786</td>\n",
       "      <td>12.249</td>\n",
       "      <td>-10.772</td>\n",
       "      <td>0.000</td>\n",
       "      <td>alternative</td>\n",
       "    </tr>\n",
       "  </tbody>\n",
       "</table>\n",
       "</div>"
      ],
      "text/plain": [
       "  value1  value2   score  p_value hypothesis_accepted\n",
       "  11.786  12.249 -10.772    0.000         alternative"
      ]
     },
     "execution_count": 11,
     "metadata": {},
     "output_type": "execute_result"
    }
   ],
   "source": [
    "p['value1'], p['value2'] = smaller_houses['SalePrice'].mean(), larger_houses['SalePrice'].mean()\n",
    "p['score'], p['p_value'] = ztest(smaller_houses['SalePrice'], larger_houses['SalePrice'], alternative='smaller')\n",
    "results(p)"
   ]
  },
  {
   "cell_type": "code",
   "execution_count": 12,
   "id": "e9aa46f1",
   "metadata": {},
   "outputs": [
    {
     "data": {
      "text/html": [
       "<div>\n",
       "<style scoped>\n",
       "    .dataframe tbody tr th:only-of-type {\n",
       "        vertical-align: middle;\n",
       "    }\n",
       "\n",
       "    .dataframe tbody tr th {\n",
       "        vertical-align: top;\n",
       "    }\n",
       "\n",
       "    .dataframe thead th {\n",
       "        text-align: right;\n",
       "    }\n",
       "</style>\n",
       "<table border=\"1\" class=\"dataframe\">\n",
       "  <thead>\n",
       "    <tr style=\"text-align: right;\">\n",
       "      <th></th>\n",
       "      <th>value1</th>\n",
       "      <th>value2</th>\n",
       "      <th>score</th>\n",
       "      <th>p_value</th>\n",
       "      <th>hypothesis_accepted</th>\n",
       "    </tr>\n",
       "  </thead>\n",
       "  <tbody>\n",
       "    <tr>\n",
       "      <th></th>\n",
       "      <td>0.670</td>\n",
       "      <td>0.950</td>\n",
       "      <td>-5.047</td>\n",
       "      <td>0.000</td>\n",
       "      <td>alternative</td>\n",
       "    </tr>\n",
       "  </tbody>\n",
       "</table>\n",
       "</div>"
      ],
      "text/plain": [
       "  value1  value2  score  p_value hypothesis_accepted\n",
       "   0.670   0.950 -5.047    0.000         alternative"
      ]
     },
     "execution_count": 12,
     "metadata": {},
     "output_type": "execute_result"
    }
   ],
   "source": [
    "from statsmodels.stats.proportion import *\n",
    "A1 = len(smaller_houses[smaller_houses.SalePrice>logged_budget])\n",
    "B1 = len(smaller_houses)\n",
    "A2 = len(larger_houses[larger_houses.SalePrice>logged_budget])\n",
    "B2 = len(larger_houses)\n",
    "p['value1'], p['value2'] = A1/B1, A2/B2\n",
    "p['score'], p['p_value'] = proportions_ztest([A1, A2], [B1, B2], alternative='smaller')\n",
    "results(p)"
   ]
  },
  {
   "cell_type": "code",
   "execution_count": 13,
   "id": "e80f606f",
   "metadata": {},
   "outputs": [
    {
     "data": {
      "text/html": [
       "<div>\n",
       "<style scoped>\n",
       "    .dataframe tbody tr th:only-of-type {\n",
       "        vertical-align: middle;\n",
       "    }\n",
       "\n",
       "    .dataframe tbody tr th {\n",
       "        vertical-align: top;\n",
       "    }\n",
       "\n",
       "    .dataframe thead th {\n",
       "        text-align: right;\n",
       "    }\n",
       "</style>\n",
       "<table border=\"1\" class=\"dataframe\">\n",
       "  <thead>\n",
       "    <tr style=\"text-align: right;\">\n",
       "      <th></th>\n",
       "      <th>value1</th>\n",
       "      <th>value2</th>\n",
       "      <th>score</th>\n",
       "      <th>p_value</th>\n",
       "      <th>hypothesis_accepted</th>\n",
       "    </tr>\n",
       "  </thead>\n",
       "  <tbody>\n",
       "    <tr>\n",
       "      <th></th>\n",
       "      <td>11.786</td>\n",
       "      <td>11.695</td>\n",
       "      <td>3.593</td>\n",
       "      <td>0.000</td>\n",
       "      <td>alternative</td>\n",
       "    </tr>\n",
       "  </tbody>\n",
       "</table>\n",
       "</div>"
      ],
      "text/plain": [
       "  value1  value2  score  p_value hypothesis_accepted\n",
       "  11.786  11.695  3.593    0.000         alternative"
      ]
     },
     "execution_count": 13,
     "metadata": {},
     "output_type": "execute_result"
    }
   ],
   "source": [
    "p['value1'], p['value2'] = smaller_houses['SalePrice'].mean(), logged_budget\n",
    "p['score'], p['p_value'] = ztest(smaller_houses['SalePrice'], value=logged_budget, alternative='larger')\n",
    "results(p)"
   ]
  },
  {
   "cell_type": "code",
   "execution_count": 14,
   "id": "9d072020",
   "metadata": {},
   "outputs": [
    {
     "data": {
      "text/html": [
       "<div>\n",
       "<style scoped>\n",
       "    .dataframe tbody tr th:only-of-type {\n",
       "        vertical-align: middle;\n",
       "    }\n",
       "\n",
       "    .dataframe tbody tr th {\n",
       "        vertical-align: top;\n",
       "    }\n",
       "\n",
       "    .dataframe thead th {\n",
       "        text-align: right;\n",
       "    }\n",
       "</style>\n",
       "<table border=\"1\" class=\"dataframe\">\n",
       "  <thead>\n",
       "    <tr style=\"text-align: right;\">\n",
       "      <th></th>\n",
       "      <th>value1</th>\n",
       "      <th>value2</th>\n",
       "      <th>score</th>\n",
       "      <th>p_value</th>\n",
       "      <th>hypothesis_accepted</th>\n",
       "    </tr>\n",
       "  </thead>\n",
       "  <tbody>\n",
       "    <tr>\n",
       "      <th></th>\n",
       "      <td>0.320</td>\n",
       "      <td>0.250</td>\n",
       "      <td>1.501</td>\n",
       "      <td>0.067</td>\n",
       "      <td>null</td>\n",
       "    </tr>\n",
       "  </tbody>\n",
       "</table>\n",
       "</div>"
      ],
      "text/plain": [
       "  value1  value2  score  p_value hypothesis_accepted\n",
       "   0.320   0.250  1.501    0.067                null"
      ]
     },
     "execution_count": 14,
     "metadata": {},
     "output_type": "execute_result"
    }
   ],
   "source": [
    "from statsmodels.stats.proportion import *\n",
    "A = len(smaller_houses[smaller_houses.SalePrice<logged_budget])\n",
    "B = len(smaller_houses)\n",
    "p['value1'], p['value2'] = A/B, 0.25\n",
    "p['score'], p['p_value'] = proportions_ztest(A, B, alternative='larger', value=0.25)\n",
    "results(p)"
   ]
  },
  {
   "cell_type": "code",
   "execution_count": 15,
   "id": "68fc01ea",
   "metadata": {},
   "outputs": [
    {
     "data": {
      "text/html": [
       "<div>\n",
       "<style scoped>\n",
       "    .dataframe tbody tr th:only-of-type {\n",
       "        vertical-align: middle;\n",
       "    }\n",
       "\n",
       "    .dataframe tbody tr th {\n",
       "        vertical-align: top;\n",
       "    }\n",
       "\n",
       "    .dataframe thead th {\n",
       "        text-align: right;\n",
       "    }\n",
       "</style>\n",
       "<table border=\"1\" class=\"dataframe\">\n",
       "  <thead>\n",
       "    <tr style=\"text-align: right;\">\n",
       "      <th></th>\n",
       "      <th>SalePrice</th>\n",
       "    </tr>\n",
       "    <tr>\n",
       "      <th>MSZoning_FullName</th>\n",
       "      <th></th>\n",
       "    </tr>\n",
       "  </thead>\n",
       "  <tbody>\n",
       "    <tr>\n",
       "      <th>Commercial</th>\n",
       "      <td>11.590</td>\n",
       "    </tr>\n",
       "    <tr>\n",
       "      <th>Floating Village Residential</th>\n",
       "      <td>12.030</td>\n",
       "    </tr>\n",
       "    <tr>\n",
       "      <th>Residential High Density</th>\n",
       "      <td>11.705</td>\n",
       "    </tr>\n",
       "    <tr>\n",
       "      <th>Residential Low Density</th>\n",
       "      <td>11.828</td>\n",
       "    </tr>\n",
       "    <tr>\n",
       "      <th>Residential Medium Density</th>\n",
       "      <td>11.617</td>\n",
       "    </tr>\n",
       "  </tbody>\n",
       "</table>\n",
       "</div>"
      ],
      "text/plain": [
       "                              SalePrice\n",
       "MSZoning_FullName                      \n",
       "Commercial                       11.590\n",
       "Floating Village Residential     12.030\n",
       "Residential High Density         11.705\n",
       "Residential Low Density          11.828\n",
       "Residential Medium Density       11.617"
      ]
     },
     "execution_count": 15,
     "metadata": {},
     "output_type": "execute_result"
    }
   ],
   "source": [
    "replacement = {'FV': \"Floating Village Residential\", 'C (all)': \"Commercial\", 'RH': \"Residential High Density\",\n",
    "              'RL': \"Residential Low Density\", 'RM': \"Residential Medium Density\"}\n",
    "smaller_houses['MSZoning_FullName'] = smaller_houses['MSZoning'].replace(replacement)\n",
    "mean_price_by_zone = smaller_houses.groupby('MSZoning_FullName')['SalePrice'].mean().to_frame()\n",
    "mean_price_by_zone"
   ]
  },
  {
   "cell_type": "code",
   "execution_count": 16,
   "id": "197b10be",
   "metadata": {},
   "outputs": [
    {
     "data": {
      "text/html": [
       "<div>\n",
       "<style scoped>\n",
       "    .dataframe tbody tr th:only-of-type {\n",
       "        vertical-align: middle;\n",
       "    }\n",
       "\n",
       "    .dataframe tbody tr th {\n",
       "        vertical-align: top;\n",
       "    }\n",
       "\n",
       "    .dataframe thead th {\n",
       "        text-align: right;\n",
       "    }\n",
       "</style>\n",
       "<table border=\"1\" class=\"dataframe\">\n",
       "  <thead>\n",
       "    <tr style=\"text-align: right;\">\n",
       "      <th></th>\n",
       "      <th>score</th>\n",
       "      <th>p_value</th>\n",
       "      <th>hypothesis_accepted</th>\n",
       "    </tr>\n",
       "  </thead>\n",
       "  <tbody>\n",
       "    <tr>\n",
       "      <th></th>\n",
       "      <td>4.146</td>\n",
       "      <td>0.004</td>\n",
       "      <td>alternative</td>\n",
       "    </tr>\n",
       "  </tbody>\n",
       "</table>\n",
       "</div>"
      ],
      "text/plain": [
       "  score  p_value hypothesis_accepted\n",
       "  4.146    0.004         alternative"
      ]
     },
     "execution_count": 16,
     "metadata": {},
     "output_type": "execute_result"
    }
   ],
   "source": [
    "sh = smaller_houses.copy()\n",
    "p['score'], p['p_value'] = stats.f_oneway(sh.loc[sh.MSZoning=='FV', 'SalePrice'], \n",
    "               sh.loc[sh.MSZoning=='C (all)', 'SalePrice'],\n",
    "               sh.loc[sh.MSZoning=='RH', 'SalePrice'],\n",
    "               sh.loc[sh.MSZoning=='RL', 'SalePrice'],\n",
    "               sh.loc[sh.MSZoning=='RM', 'SalePrice'],)\n",
    "results(p)[['score', 'p_value', 'hypothesis_accepted']]"
   ]
  },
  {
   "cell_type": "code",
   "execution_count": 17,
   "id": "2f65d342",
   "metadata": {},
   "outputs": [
    {
     "data": {
      "text/html": [
       "<div>\n",
       "<style scoped>\n",
       "    .dataframe tbody tr th:only-of-type {\n",
       "        vertical-align: middle;\n",
       "    }\n",
       "\n",
       "    .dataframe tbody tr th {\n",
       "        vertical-align: top;\n",
       "    }\n",
       "\n",
       "    .dataframe thead th {\n",
       "        text-align: right;\n",
       "    }\n",
       "</style>\n",
       "<table border=\"1\" class=\"dataframe\">\n",
       "  <thead>\n",
       "    <tr style=\"text-align: right;\">\n",
       "      <th></th>\n",
       "      <th>count</th>\n",
       "    </tr>\n",
       "    <tr>\n",
       "      <th>GarageType</th>\n",
       "      <th></th>\n",
       "    </tr>\n",
       "  </thead>\n",
       "  <tbody>\n",
       "    <tr>\n",
       "      <th>Attchd</th>\n",
       "      <td>46</td>\n",
       "    </tr>\n",
       "    <tr>\n",
       "      <th>Detchd</th>\n",
       "      <td>41</td>\n",
       "    </tr>\n",
       "    <tr>\n",
       "      <th>No Garage</th>\n",
       "      <td>10</td>\n",
       "    </tr>\n",
       "    <tr>\n",
       "      <th>CarPort</th>\n",
       "      <td>2</td>\n",
       "    </tr>\n",
       "    <tr>\n",
       "      <th>Basment</th>\n",
       "      <td>1</td>\n",
       "    </tr>\n",
       "  </tbody>\n",
       "</table>\n",
       "</div>"
      ],
      "text/plain": [
       "            count\n",
       "GarageType       \n",
       "Attchd         46\n",
       "Detchd         41\n",
       "No Garage      10\n",
       "CarPort         2\n",
       "Basment         1"
      ]
     },
     "execution_count": 17,
     "metadata": {},
     "output_type": "execute_result"
    }
   ],
   "source": [
    "smaller_houses['GarageType'].fillna('No Garage', inplace=True)\n",
    "smaller_houses['GarageType'].value_counts().to_frame()"
   ]
  },
  {
   "cell_type": "code",
   "execution_count": 18,
   "id": "2f41b583",
   "metadata": {
    "scrolled": true
   },
   "outputs": [
    {
     "data": {
      "text/html": [
       "<div>\n",
       "<style scoped>\n",
       "    .dataframe tbody tr th:only-of-type {\n",
       "        vertical-align: middle;\n",
       "    }\n",
       "\n",
       "    .dataframe tbody tr th {\n",
       "        vertical-align: top;\n",
       "    }\n",
       "\n",
       "    .dataframe thead th {\n",
       "        text-align: right;\n",
       "    }\n",
       "</style>\n",
       "<table border=\"1\" class=\"dataframe\">\n",
       "  <thead>\n",
       "    <tr style=\"text-align: right;\">\n",
       "      <th></th>\n",
       "      <th>Sample1 (smallest houses)</th>\n",
       "      <th>Sample2</th>\n",
       "      <th>Sample3</th>\n",
       "      <th>Sample4 (largest houses)</th>\n",
       "    </tr>\n",
       "    <tr>\n",
       "      <th>GarageType</th>\n",
       "      <th></th>\n",
       "      <th></th>\n",
       "      <th></th>\n",
       "      <th></th>\n",
       "    </tr>\n",
       "  </thead>\n",
       "  <tbody>\n",
       "    <tr>\n",
       "      <th>Detchd</th>\n",
       "      <td>52.000</td>\n",
       "      <td>40.000</td>\n",
       "      <td>39.000</td>\n",
       "      <td>26.000</td>\n",
       "    </tr>\n",
       "    <tr>\n",
       "      <th>Attchd</th>\n",
       "      <td>34.000</td>\n",
       "      <td>50.000</td>\n",
       "      <td>55.000</td>\n",
       "      <td>62.000</td>\n",
       "    </tr>\n",
       "    <tr>\n",
       "      <th>No Garage</th>\n",
       "      <td>11.000</td>\n",
       "      <td>7.000</td>\n",
       "      <td>5.000</td>\n",
       "      <td>5.000</td>\n",
       "    </tr>\n",
       "  </tbody>\n",
       "</table>\n",
       "</div>"
      ],
      "text/plain": [
       "            Sample1 (smallest houses)  Sample2  Sample3  \\\n",
       "GarageType                                                \n",
       "Detchd                         52.000   40.000   39.000   \n",
       "Attchd                         34.000   50.000   55.000   \n",
       "No Garage                      11.000    7.000    5.000   \n",
       "\n",
       "            Sample4 (largest houses)  \n",
       "GarageType                            \n",
       "Detchd                        26.000  \n",
       "Attchd                        62.000  \n",
       "No Garage                      5.000  "
      ]
     },
     "execution_count": 18,
     "metadata": {},
     "output_type": "execute_result"
    }
   ],
   "source": [
    "city_hall_dataset['GarageType'].fillna('No Garage', inplace=True)\n",
    "sample1 = city_hall_dataset.sort_values('GrLivArea')[:183].sample(n=100)\n",
    "sample2 = city_hall_dataset.sort_values('GrLivArea')[183:366].sample(n=100)\n",
    "sample3 = city_hall_dataset.sort_values('GrLivArea')[366:549].sample(n=100)\n",
    "sample4 = city_hall_dataset.sort_values('GrLivArea')[549:730].sample(n=100)\n",
    "dff = pd.concat([\n",
    "    sample1['GarageType'].value_counts().to_frame(),\n",
    "    sample2['GarageType'].value_counts().to_frame(), \n",
    "    sample3['GarageType'].value_counts().to_frame(), \n",
    "    sample4['GarageType'].value_counts().to_frame()], \n",
    "    axis=1, sort=False)\n",
    "dff.columns = ['Sample1 (smallest houses)', 'Sample2', 'Sample3', 'Sample4 (largest houses)']\n",
    "dff = dff[:3] #chi-square tests do not work when table contains some 0, we take only the most frequent attributes\n",
    "dff "
   ]
  },
  {
   "cell_type": "code",
   "execution_count": 19,
   "id": "26c3a533",
   "metadata": {
    "scrolled": true
   },
   "outputs": [
    {
     "data": {
      "text/html": [
       "<div>\n",
       "<style scoped>\n",
       "    .dataframe tbody tr th:only-of-type {\n",
       "        vertical-align: middle;\n",
       "    }\n",
       "\n",
       "    .dataframe tbody tr th {\n",
       "        vertical-align: top;\n",
       "    }\n",
       "\n",
       "    .dataframe thead th {\n",
       "        text-align: right;\n",
       "    }\n",
       "</style>\n",
       "<table border=\"1\" class=\"dataframe\">\n",
       "  <thead>\n",
       "    <tr style=\"text-align: right;\">\n",
       "      <th></th>\n",
       "      <th>score</th>\n",
       "      <th>p_value</th>\n",
       "      <th>hypothesis_accepted</th>\n",
       "    </tr>\n",
       "  </thead>\n",
       "  <tbody>\n",
       "    <tr>\n",
       "      <th></th>\n",
       "      <td>20.519</td>\n",
       "      <td>0.002</td>\n",
       "      <td>alternative</td>\n",
       "    </tr>\n",
       "  </tbody>\n",
       "</table>\n",
       "</div>"
      ],
      "text/plain": [
       "  score  p_value hypothesis_accepted\n",
       " 20.519    0.002         alternative"
      ]
     },
     "execution_count": 19,
     "metadata": {},
     "output_type": "execute_result"
    }
   ],
   "source": [
    "p['score'], p['p_value'], p['ddf'], p['contigency'] = stats.chi2_contingency(dff)\n",
    "p.pop('contigency')\n",
    "results(p)[['score', 'p_value', 'hypothesis_accepted']]"
   ]
  },
  {
   "cell_type": "code",
   "execution_count": null,
   "id": "d37a5819",
   "metadata": {},
   "outputs": [],
   "source": []
  }
 ],
 "metadata": {
  "kernelspec": {
   "display_name": "Python 3 (ipykernel)",
   "language": "python",
   "name": "python3"
  },
  "language_info": {
   "codemirror_mode": {
    "name": "ipython",
    "version": 3
   },
   "file_extension": ".py",
   "mimetype": "text/x-python",
   "name": "python",
   "nbconvert_exporter": "python",
   "pygments_lexer": "ipython3",
   "version": "3.11.5"
  }
 },
 "nbformat": 4,
 "nbformat_minor": 5
}
